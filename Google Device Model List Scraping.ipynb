{
 "cells": [
  {
   "cell_type": "code",
   "execution_count": 2,
   "metadata": {},
   "outputs": [],
   "source": [
    "import pandas as pd\n",
    "import numpy as np\n",
    "from tqdm import tqdm\n",
    "import ast\n",
    "from bs4 import BeautifulSoup\n",
    "import requests"
   ]
  },
  {
   "cell_type": "code",
   "execution_count": 3,
   "metadata": {},
   "outputs": [],
   "source": [
    "url = 'http://storage.googleapis.com/play_public/supported_devices.html'\n",
    "r = requests.get(url)\n",
    "soup = BeautifulSoup(r.content, 'lxml')"
   ]
  },
  {
   "cell_type": "code",
   "execution_count": 17,
   "metadata": {},
   "outputs": [],
   "source": [
    "td = []\n",
    "rows = soup.findAll('tr')\n",
    "for r in rows:\n",
    "    td.append(r.findAll('td'))"
   ]
  },
  {
   "cell_type": "code",
   "execution_count": 30,
   "metadata": {},
   "outputs": [],
   "source": [
    "td1 =[]\n",
    "for r in td:\n",
    "    for t in r:\n",
    "    \n",
    "       td1.append(str(t).replace('<td>','').replace('</td>',''))\n",
    "       "
   ]
  },
  {
   "cell_type": "code",
   "execution_count": 36,
   "metadata": {},
   "outputs": [],
   "source": [
    "td1\n",
    "rb = []\n",
    "mn = []\n",
    "d = []\n",
    "m = []\n",
    "for i in range(len(td1)):\n",
    "    if(i%4 ==0):\n",
    "        rb.append(td1[i])\n",
    "    \n",
    "    if(i%4 ==1):\n",
    "        mn.append(td1[i])\n",
    "    if(i%4 ==2):\n",
    "        d.append(td1[i])\n",
    "    if(i%4 ==3):\n",
    "        m.append(td1[i])\n",
    "    "
   ]
  },
  {
   "cell_type": "code",
   "execution_count": 40,
   "metadata": {},
   "outputs": [],
   "source": [
    "google_dm_map = pd.DataFrame({'Retail Branding':rb,'Market Name':mn,'Device':d,'Model':m})\n",
    "google_dm_map.to_csv('google_map_device_model.csv')"
   ]
  },
  {
   "cell_type": "code",
   "execution_count": 3,
   "metadata": {},
   "outputs": [],
   "source": [
    "google_dm_map=pd.read_csv('data/google_map_device_model.csv')"
   ]
  },
  {
   "cell_type": "code",
   "execution_count": 4,
   "metadata": {},
   "outputs": [],
   "source": [
    "device_sys = pd.read_csv('data/Device_Data.csv')"
   ]
  },
  {
   "cell_type": "code",
   "execution_count": 5,
   "metadata": {},
   "outputs": [],
   "source": [
    "device_sys_list = list(set(device_sys.model.tolist()))"
   ]
  },
  {
   "cell_type": "code",
   "execution_count": 6,
   "metadata": {},
   "outputs": [],
   "source": [
    "name = []\n",
    "brand = []\n",
    "sys_name = []\n",
    "for i in device_sys_list:\n",
    "    \n",
    "    if i in google_dm_map.Model.tolist():\n",
    "        sys_name.append(i)\n",
    "        ind = google_dm_map.Model.tolist().index(i)\n",
    "        name.append(google_dm_map['Market Name'].iloc[ind])\n",
    "        brand.append(google_dm_map['Retail Branding'].iloc[ind])"
   ]
  },
  {
   "cell_type": "code",
   "execution_count": 7,
   "metadata": {},
   "outputs": [],
   "source": [
    "sys_name_tup = list(zip(sys_name,name,brand))"
   ]
  },
  {
   "cell_type": "code",
   "execution_count": 8,
   "metadata": {},
   "outputs": [],
   "source": [
    "brand_di = {}\n",
    "for i in brand:\n",
    "    brand_di[i] = []\n",
    "for i in range(len(sys_name_tup)):\n",
    "    brand_di[sys_name_tup[i][2]].append(list(sys_name_tup[i][0:2]))"
   ]
  },
  {
   "cell_type": "code",
   "execution_count": 156,
   "metadata": {},
   "outputs": [],
   "source": [
    "# pricebaba = pd.read_csv('data/Model_Price.csv')\n",
    "# pricebaba1 = pd.read_csv('data/Model_Price_HL.csv')"
   ]
  },
  {
   "cell_type": "code",
   "execution_count": 157,
   "metadata": {},
   "outputs": [],
   "source": [
    "# import re\n",
    "# pricebaba.Device_Name = pricebaba.Device_Name.apply(lambda x: re.sub('[\\w]+GB','',x))\n",
    "# pricebaba.Device_Name = pricebaba.Device_Name.apply(lambda x: x.strip())\n",
    "\n",
    "# import re\n",
    "# pricebaba1.Device_Name = pricebaba1.Device_Name.apply(lambda x: re.sub('[\\w]+GB','',x))\n",
    "# pricebaba1.Device_Name = pricebaba1.Device_Name.apply(lambda x: x.strip())"
   ]
  },
  {
   "cell_type": "code",
   "execution_count": 9,
   "metadata": {},
   "outputs": [
    {
     "name": "stderr",
     "output_type": "stream",
     "text": [
      "\r",
      "  0%|          | 0/42 [00:00<?, ?it/s]"
     ]
    },
    {
     "name": "stdout",
     "output_type": "stream",
     "text": [
      "['Galaxy A8', 'Rs. 19,490']\n",
      "['Galaxy J4', 'Rs. 8,490']\n",
      "['Galaxy S8', 'Rs. 49,990']\n",
      "['Galaxy Grand2', 'Rs. 28,490']\n",
      "['Galaxy On Max', 'Rs. 9,499']\n",
      "['Galaxy S9', 'Rs. 24,999']\n",
      "['Galaxy J2 Pro', 'Rs. 9,928']\n",
      "['Galaxy J7 Pro', 'Rs. 20,000']\n",
      "['Galaxy On7 Prime', 'Rs. 9,977']\n",
      "['Galaxy Note8', 'Rs. 28,490']\n",
      "['Galaxy C9 Pro', 'Rs. 4,140']\n",
      "['Galaxy Note4', 'Rs. 28,490']\n",
      "['Galaxy J7', 'Rs. 10,990']\n",
      "['Galaxy J2 Prime', 'Rs. 6,799']\n",
      "['Galaxy J5', 'Rs. 13,500']\n",
      "['Galaxy A6+', 'Rs. 19,999']\n",
      "['Galaxy A8(2018)', 'Rs. 19,490']\n",
      "['Galaxy A3(2017)', 'Rs. 25,900']\n",
      "['Galaxy C9 Pro', 'Rs. 4,140']\n",
      "['Galaxy J5 Prime', 'Rs. 13,500']\n",
      "['Galaxy S9', 'Rs. 24,999']\n",
      "['Galaxy A50', 'Rs. 15,899']\n",
      "['Galaxy Note5', 'Rs. 28,490']\n",
      "['Galaxy S8+', 'Rs. 49,990']\n",
      "['Galaxy J6+', 'Rs. 10,490']\n",
      "['Galaxy A5(2017)', 'Rs. 25,900']\n",
      "['Galaxy A8 Star', 'Rs. 34,999']\n",
      "['Galaxy On7', 'Rs. 9,977']\n",
      "['Galaxy Ace 4', 'Rs. 28,490']\n",
      "['Galaxy C9 Pro', 'Rs. 4,140']\n",
      "['Galaxy A9 (2018)', 'Rs. 25,990']\n",
      "['SM-J337A', 'Rs. 49,990']\n",
      "['Galaxy S6 Edge', 'Rs. 37,299']\n",
      "['Galaxy Grand Prime Pro', 'Rs. 7,990']\n",
      "['Galaxy S8+', 'Rs. 49,990']\n",
      "['Galaxy J7 Duo', 'Rs. 13,900']\n",
      "['Galaxy J5(2016)', 'Rs. 12,990']\n",
      "['Galaxy E7', 'Rs. 28,490']\n",
      "['Galaxy Grand Prime', 'Rs. 7,990']\n",
      "['Galaxy S9', 'Rs. 24,999']\n",
      "['Galaxy S8', 'Rs. 49,990']\n",
      "['Galaxy Note8', 'Rs. 28,490']\n",
      "['Galaxy J6', 'Rs. 10,490']\n",
      "['Galaxy J4+', 'Rs. 8,490']\n",
      "['Galaxy A8(2018)', 'Rs. 19,490']\n",
      "['Galaxy S4', 'Rs. 28,490']\n",
      "['Galaxy J7 Neo', 'Rs. 10,990']\n",
      "['Galaxy M10', 'Rs. 7,990']\n",
      "['Galaxy S6 Edge+', 'Rs. 37,299']\n",
      "['Galaxy S9+', 'Rs. 24,999']\n",
      "['Galaxy Note8', 'Rs. 28,490']\n",
      "['Galaxy S10', 'Rs. 49,990']\n",
      "['Galaxy A5(2016)', 'Rs. 18,000']\n",
      "['Galaxy A7(2017)', 'Rs. 25,900']\n",
      "['Galaxy S10e', 'Rs. 44,900']\n",
      "['Galaxy J6', 'Rs. 10,490']\n",
      "['Galaxy Note4', 'Rs. 28,490']\n",
      "['Galaxy J8', 'Rs. 15,499']\n",
      "['Galaxy A8', 'Rs. 19,490']\n",
      "['Galaxy A5', 'Rs. 28,490']\n",
      "['Galaxy S8', 'Rs. 49,990']\n",
      "['Galaxy S9+', 'Rs. 24,999']\n",
      "['Galaxy S7 edge', 'Rs. 37,299']\n",
      "['Galaxy S7', 'Rs. 28,490']\n",
      "['Galaxy Note9', 'Rs. 28,490']\n",
      "['Galaxy C7 Pro', 'Rs. 18,700']\n",
      "['Galaxy S9', 'Rs. 24,999']\n",
      "['Galaxy J5', 'Rs. 13,500']\n",
      "['Galaxy On8', 'Rs. 28,490']\n",
      "['Galaxy Note5', 'Rs. 28,490']\n",
      "['Galaxy A7 (2018)', 'Rs. 18,400']\n",
      "['Galaxy J3(2016)', 'Rs. 8,299']\n",
      "['Galaxy Note5', 'Rs. 28,490']\n",
      "['Galaxy S6 Edge+', 'Rs. 37,299']\n",
      "['Galaxy E5', 'Rs. 28,490']\n",
      "['Galaxy On5', 'Rs. 28,490']\n",
      "['Galaxy S9', 'Rs. 24,999']\n",
      "['Galaxy Note8', 'Rs. 28,490']\n",
      "['Galaxy A7(2016)', 'Rs. 18,000']\n",
      "['Galaxy S6', 'Rs. 37,299']\n",
      "['Galaxy A7', 'Rs. 25,900']\n",
      "['Galaxy S6 Edge+', 'Rs. 37,299']\n",
      "['Galaxy Note9', 'Rs. 28,490']\n",
      "['Galaxy J7 Prime2', 'Rs. 10,990']\n",
      "['Galaxy S9+', 'Rs. 24,999']\n",
      "['Galaxy S10+', 'Rs. 49,990']\n",
      "['Galaxy J7 Max', 'Rs. 11,046']\n",
      "['Galaxy On6', 'Rs. 28,490']\n",
      "['Galaxy J4+', 'Rs. 8,490']\n",
      "['Galaxy Note Fan Edition', 'Rs. 79,999']\n",
      "['Galaxy Note8', 'Rs. 28,490']\n",
      "['Galaxy On8', 'Rs. 28,490']\n",
      "['Galaxy S8+', 'Rs. 49,990']\n",
      "['Galaxy A30', 'Rs. 14,799']\n",
      "['Galaxy J7(2016)', 'Rs. 13,800']\n",
      "['Galaxy J7 Prime', 'Rs. 16,000']\n",
      "['Galaxy J7', 'Rs. 10,990']\n",
      "['Galaxy S3', 'Rs. 22,140']\n",
      "['Galaxy Note4', 'Rs. 28,490']\n",
      "['Galaxy S7 Edge', 'Rs. 37,299']\n",
      "['Galaxy S8', 'Rs. 49,990']\n",
      "['Galaxy A8+(2018)', 'Rs. 19,490']\n",
      "['Galaxy J6+', 'Rs. 10,490']\n",
      "['Galaxy S8+', 'Rs. 49,990']\n",
      "['Galaxy Tab S3', 'Rs. 22,140']\n",
      "['Galaxy S6 edge+', 'Rs. 37,299']\n",
      "['Galaxy S7', 'Rs. 28,490']\n",
      "['Galaxy J2', 'Rs. 6,799']\n",
      "['Galaxy A9 Pro', 'Rs. 25,990']\n",
      "['Galaxy Tab A (2017)', 'Rs. 17,270']\n",
      "['Galaxy A6', 'Rs. 19,999']\n",
      "['Galaxy M20', 'Rs. 9,999']\n",
      "['Galaxy J3 Pro', 'Rs. 8,299']\n"
     ]
    },
    {
     "name": "stderr",
     "output_type": "stream",
     "text": [
      "\r",
      "  2%|▏         | 1/42 [04:03<2:46:35, 243.80s/it]"
     ]
    },
    {
     "name": "stdout",
     "output_type": "stream",
     "text": [
      "['Galaxy J2 Core', 'Rs. 6,190']\n",
      "['vivo 1714', 'Rs. 11,400']\n",
      "['vivo 1812', 'Rs. 11,400']\n",
      "['Y55', 0]\n",
      "['1609', 0]\n",
      "['vivo 1814', 'Rs. 11,400']\n",
      "['1601', 'Rs. 18,915']\n",
      "['vivo 1803', 'Rs. 11,400']\n",
      "['vivo 1818', 'Rs. 11,400']\n",
      "['Y55s', 'Rs. 13,490']\n",
      "['vivo 1611', 'Rs. 11,400']\n",
      "['vivo 1805', 'Rs. 11,400']\n",
      "['vivo 1807', 'Rs. 11,400']\n",
      "['vivo 1724', 'Rs. 11,400']\n",
      "['vivo 1804', 'Rs. 11,400']\n",
      "['V9', 'Rs. 18,900']\n",
      "['vivo 1816', 'Rs. 11,400']\n",
      "['1601', 'Rs. 18,915']\n",
      "['Y53', 'Rs. 8,490']\n",
      "['V1', 'Rs. 18,330']\n",
      "['vivo 1815', 'Rs. 11,400']\n",
      "['Y71', 'Rs. 9,450']\n",
      "['V9 Pro', 'Rs. 16,300']\n",
      "['vivo 1718', 'Rs. 15,990']\n",
      "['vivo 1726', 'Rs. 11,400']\n",
      "['V9 6GB', 'Rs. 16,300']\n",
      "['vivo 1725', 'Rs. 11,400']\n",
      "['Y31L', 'Rs. 8,599']\n",
      "['V3', 'Rs. 17,008']\n",
      "['vivo 1802', 'Rs. 11,400']\n",
      "['Y21L', 'Rs. 8,490']\n",
      "['vivo 1806', 'Rs. 11,400']\n",
      "['V3Max', 0]\n"
     ]
    },
    {
     "name": "stderr",
     "output_type": "stream",
     "text": [
      "\r",
      "  5%|▍         | 2/42 [05:11<2:07:13, 190.83s/it]"
     ]
    },
    {
     "name": "stdout",
     "output_type": "stream",
     "text": [
      "['vivo 1716', 'Rs. 22,221']\n",
      "['OnePlus5', 0]\n",
      "['One', 'Rs. 10,499']\n",
      "['OnePlus 6', 'Rs. 31,499']\n",
      "['OnePlus6T', 0]\n",
      "['2', 'Rs. 32,290']\n",
      "['OnePlus5T', 0]\n",
      "['3', 'Rs. 5,999']\n"
     ]
    },
    {
     "name": "stderr",
     "output_type": "stream",
     "text": [
      "\r",
      "  7%|▋         | 3/42 [05:27<1:30:05, 138.60s/it]"
     ]
    },
    {
     "name": "stdout",
     "output_type": "stream",
     "text": [
      "['OnePlus', 'Rs. 34,979']\n"
     ]
    },
    {
     "name": "stderr",
     "output_type": "stream",
     "text": [
      "\r",
      " 10%|▉         | 4/42 [05:30<1:01:55, 97.77s/it] "
     ]
    },
    {
     "name": "stdout",
     "output_type": "stream",
     "text": [
      "['Razer Phone', 'Rs. 1,029']\n",
      "['BlackBerry Evolve', 'Rs. 16,000']\n",
      "['BlackBerry KEYone', 'Rs. 16,000']\n"
     ]
    },
    {
     "name": "stderr",
     "output_type": "stream",
     "text": [
      "\r",
      " 12%|█▏        | 5/42 [05:37<43:27, 70.47s/it]  "
     ]
    },
    {
     "name": "stdout",
     "output_type": "stream",
     "text": [
      "['PRIV by BlackBerry', 'Rs. 9,989']\n",
      "['Moto E (4)', 'Rs. 15,290']\n",
      "['moto g(6) play', 'Rs. 17,499']\n",
      "['moto e(5) plus', 'Rs. 31,999']\n",
      "['Moto G (1st Gen)', 'Rs. 10,999']\n",
      "['Moto X (2nd Gen)', 'Rs. 19,999']\n",
      "['Moto G (3rd Gen)', 'Rs. 10,999']\n",
      "['Moto Z Play', 'Rs. 17,499']\n",
      "['Moto E (4) Plus', 'Rs. 31,999']\n",
      "['Moto G (5) Plus', 'Rs. 13,500']\n",
      "['Moto G (2nd Gen)', 'Rs. 13,500']\n",
      "['Moto X Force', 'Rs. 17,499']\n",
      "['Moto E (2nd Gen)', 'Rs. 19,999']\n",
      "['Moto G Turbo Edition', 'Rs. 16,999']\n",
      "['Moto G (4) Play', 'Rs. 17,499']\n",
      "['Moto G (5) Plus', 'Rs. 13,500']\n",
      "['Moto G (5)', 'Rs. 13,500']\n",
      "['Moto G (5S) Plus', 'Rs. 10,999']\n",
      "['Moto Z (2) Play', 'Rs. 17,499']\n",
      "['Moto C Plus', 'Rs. 31,999']\n",
      "['Moto X Play', 'Rs. 17,499']\n",
      "['Moto X (4)', 'Rs. 17,499']\n",
      "['moto e6', 'Rs. 31,999']\n",
      "['moto g(6) plus', 'Rs. 10,999']\n",
      "['Moto Z (2) Force', 'Rs. 31,999']\n",
      "['Moto G (5S)', 'Rs. 10,999']\n",
      "['Nexus 6', 'Rs. 42,998']\n"
     ]
    },
    {
     "name": "stderr",
     "output_type": "stream",
     "text": [
      "\r",
      " 14%|█▍        | 6/42 [06:39<40:45, 67.93s/it]"
     ]
    },
    {
     "name": "stdout",
     "output_type": "stream",
     "text": [
      "['motorola one power', 'Rs. 10,499']\n",
      "['Nokia 8.1', 'Rs. 9,499']\n",
      "['Nokia 6.1', 'Rs. 9,499']\n",
      "['Nokia 7 plus', 'Rs. 9,499']\n",
      "['Nokia 2', 'Rs. 7,007']\n",
      "['Nokia 5', 'Rs. 11,990']\n",
      "['Nokia 3', 'Rs. 7,999']\n",
      "['Nokia 6.1 Plus', 'Rs. 9,499']\n",
      "['Nokia 5.1 Plus', 'Rs. 6,999']\n",
      "['Nokia 2.1', 'Rs. 5,099']\n",
      "['Nokia 6', 'Rs. 6,999']\n",
      "['Nokia 3.1 Plus', 'Rs. 7,948']\n",
      "['Nokia 7.1', 'Rs. 12,499']\n",
      "['Nokia 8 Sirocco', 'Rs. 54,999']\n"
     ]
    },
    {
     "name": "stderr",
     "output_type": "stream",
     "text": [
      "\r",
      " 17%|█▋        | 7/42 [07:09<33:02, 56.63s/it]"
     ]
    },
    {
     "name": "stdout",
     "output_type": "stream",
     "text": [
      "['Nokia 8', 'Rs. 54,999']\n",
      "['Z61', 'Rs. 4,799']\n",
      "['Z61-2GB', 'Rs. 5,999']\n",
      "['Z10', 'Rs. 7,500']\n",
      "['Z91', 'Rs. 6,980']\n",
      "['Z60', 'Rs. 4,440']\n",
      "['Z25', 'Rs. 12,400']\n",
      "['Z90', 'Rs. 8,999']\n"
     ]
    },
    {
     "name": "stderr",
     "output_type": "stream",
     "text": [
      "\r",
      " 19%|█▉        | 8/42 [07:23<24:50, 43.83s/it]"
     ]
    },
    {
     "name": "stdout",
     "output_type": "stream",
     "text": [
      "['IRIS88S', 0]\n",
      "['X9009', 'Rs. 27,500']\n",
      "['CPH1723', 0]\n",
      "['CPH1717', 0]\n",
      "['realme U1', 'Rs. 12,334']\n",
      "['CPH1613', 'Rs. 17,900']\n",
      "['realme 1', 'Rs. 10,999']\n",
      "['realme 3', 'Rs. 8,499']\n",
      "['F7', 'Rs. 14,999']\n",
      "['CPH1701', 'Rs. 13,500']\n",
      "['F7', 'Rs. 14,999']\n",
      "['realme 2 Pro', 'Rs. 11,490']\n",
      "['A1601', 'Rs. 17,990']\n",
      "['F9', 'Rs. 16,990']\n",
      "['CPH1725', 'Rs. 8,799']\n",
      "['F11 Pro', 'Rs. 16,990']\n",
      "['A33w', 0]\n",
      "['CPH1609', 0]\n",
      "['A51w', 0]\n",
      "['CPH1801', 0]\n",
      "['A37f', 'Rs. 10,000']\n",
      "['realme C1', 'Rs. 6,999']\n",
      "['A7', 'Rs. 10,990']\n",
      "['realme 1', 'Rs. 10,999']\n",
      "['F1f', 0]\n",
      "['A3s', 'Rs. 9,299']\n",
      "['CPH1727', 'Rs. 24,990']\n",
      "['F9', 'Rs. 16,990']\n",
      "['A37f', 'Rs. 10,000']\n",
      "['CPH1893', 0]\n",
      "['A33f', 'Rs. 10,000']\n",
      "['R17 Pro', 'Rs. 31,590']\n",
      "['A5', 'Rs. 1,065']\n",
      "['realme U1', 'Rs. 12,334']\n",
      "['realme 2', 'Rs. 8,890']\n"
     ]
    },
    {
     "name": "stderr",
     "output_type": "stream",
     "text": [
      "\r",
      " 21%|██▏       | 9/42 [08:27<27:25, 49.85s/it]"
     ]
    },
    {
     "name": "stdout",
     "output_type": "stream",
     "text": [
      "['CPH1729', 0]\n",
      "['LG G6', 'Rs. 16,000']\n",
      "['G Vista', 'Rs. 42,021']\n",
      "['V30', 'Rs. 24,999']\n",
      "['V20', 'N/A']\n",
      "['LG K4', 'Rs. 3,699']\n",
      "['V40 ThinQ', 'Rs. 29,999']\n",
      "['LG Stylus2 4G', 'Rs. 8,499']\n",
      "['LG Stylus3', 'Rs. 16,000']\n",
      "['G Pro Lite', 'Rs. 740']\n",
      "['LG G5', 'Rs. 16,000']\n",
      "['LG G Stylo', 'Rs. 42,021']\n",
      "['LG G7 ThinQ', 'Rs. 48,999']\n",
      "['Nexus 5', 'Rs. 42,998']\n",
      "['LG Stylus 2', 'Rs. 15,899']\n",
      "['LG K10 (2017)', 'Rs. 1,249']\n",
      "['LG Q6', 'Rs. 9,640']\n"
     ]
    },
    {
     "name": "stderr",
     "output_type": "stream",
     "text": [
      "\r",
      " 24%|██▍       | 10/42 [09:03<24:23, 45.72s/it]"
     ]
    },
    {
     "name": "stdout",
     "output_type": "stream",
     "text": [
      "['Nexus 5X', 'Rs. 42,998']\n",
      "['3600i', 'N/A']\n",
      "['C103', 'Rs. 6,000']\n",
      "['Y83-I00', 'Rs. 11,790']\n"
     ]
    },
    {
     "name": "stderr",
     "output_type": "stream",
     "text": [
      "\r",
      " 26%|██▌       | 11/42 [09:09<17:34, 34.01s/it]"
     ]
    },
    {
     "name": "stdout",
     "output_type": "stream",
     "text": [
      "['3503I', 0]\n",
      "['0PK72', 0]\n",
      "['Desire 830 dual sim', 'Rs. 7,999']\n",
      "['Desire 816G dual', 'Rs. 21,990']\n",
      "['D728w', 0]\n",
      "['U11', 'Rs. 53,990']\n",
      "['Desire 828 dual sim', 'Rs. 9,199']\n",
      "['Desire 12+', 'Rs. 7,999']\n",
      "['0P9C8', 0]\n",
      "['Desire 10 pro', 'Rs. 7,999']\n"
     ]
    },
    {
     "name": "stderr",
     "output_type": "stream",
     "text": [
      "\r",
      " 29%|██▊       | 12/42 [09:30<14:59, 29.99s/it]"
     ]
    },
    {
     "name": "stdout",
     "output_type": "stream",
     "text": [
      "['Desire 526G+ dual sim', 'Rs. 7,999']\n",
      "['Honor 5C', 'Rs. 13,999']\n",
      "['HUAWEI Y8s', 'Rs. 39,999']\n",
      "['Nexus 6P', 'Rs. 42,998']\n",
      "['P9 lite', 'Rs. 39,999']\n",
      "['HUAWEI Mate 20 Pro', 'Rs. 52,990']\n",
      "['Honor 10 Lite', 'Rs. 11,599']\n",
      "['HONOR View20', 'Rs. 13,999']\n",
      "['Honor 9', 'Rs. 8,499']\n",
      "['Honor 7C', 'Rs. 12,999']\n",
      "['HUAWEI Y7 2018', 'Rs. 39,999']\n",
      "['H60-L04', 'Rs. 9,799']\n",
      "['nova 3', 'Rs. 21,999']\n",
      "['Honor Play', 'Rs. 6,499']\n",
      "['HUAWEI MediaPad T3 10', 'Rs. 11,999']\n",
      "['HUWEI MediaPad T3', 'Rs. 9,999']\n",
      "['Honor 7A', 'Rs. 7,499']\n",
      "['P20 lite', 'Rs. 740']\n",
      "['荣耀畅玩7X', 'Rs. 12,722']\n",
      "['P20 Pro', 'Rs. 5,499']\n",
      "['P8 Lite', 'Rs. 3,499']\n",
      "['Y6 Pro', 'Rs. 5,499']\n",
      "['Che1-L04', 'Rs. 9,799']\n",
      "['honor 6x', 'Rs. 13,999']\n",
      "['honor 8C', 'Rs. 12,999']\n",
      "['nova 2i', 'Rs. 21,999']\n",
      "['Huawei Y9 2019', 'Rs. 15,990']\n",
      "['P10 Plus', 'Rs. 25,999']\n",
      "['Honor 9N', 'Rs. 9,499']\n",
      "['荣耀畅玩5A', 'Rs. 4,898']\n",
      "['Che2-L11', 0]\n",
      "['Honor 6X', 'Rs. 13,999']\n",
      "['Honor 8x', 'Rs. 11,599']\n",
      "['Honor 10', 'Rs. 11,999']\n",
      "['FRD-L02', 'Rs. 29,999']\n",
      "['荣耀8青春版', 'Rs. 18,999']\n",
      "['Honor 8 Pro', 'Rs. 13,999']\n",
      "['GX8', 0]\n",
      "['P20', 'N/A']\n",
      "['PORSCHE DESIGN HUAWEI Mate RS', 'Rs. 1,185']\n",
      "['HUAWEI Nova 3i', 'Rs. 21,999']\n",
      "['Honor View 10', 'Rs. 11,999']\n",
      "['荣耀9青春版', 'Rs. 36,899']\n",
      "['nova 3e', 'Rs. 21,999']\n"
     ]
    },
    {
     "name": "stderr",
     "output_type": "stream",
     "text": [
      "\r",
      " 31%|███       | 13/42 [11:10<24:34, 50.85s/it]"
     ]
    },
    {
     "name": "stdout",
     "output_type": "stream",
     "text": [
      "['nova 3i', 'Rs. 21,999']\n",
      "['A5500-HV', 'Rs. 14,000']\n",
      "['Moto E3 Power', 'Rs. 31,999']\n",
      "['Lenovo PHAB2', 'Rs. 5,799']\n",
      "['Lenovo K8', 'Rs. 7,637']\n",
      "['PB1-750M/Lenovo PHAB', 'Rs. 5,799']\n",
      "['K5 Plus', 'Rs. 849']\n",
      "['P1', 'Rs. 545']\n",
      "['Motorola M', 'Rs. 7,999']\n",
      "['VIBE X3 Lite', 'Rs. 899']\n",
      "['K5 Note', 'Rs. 13,499']\n",
      "['P2', 'Rs. 635']\n",
      "['A6010', 'Rs. 5,990']\n",
      "['A7000', 'Rs. 14,000']\n",
      "['VIBE K6 Note', 'Rs. 10,999']\n",
      "['S1', 'Rs. 7,495']\n",
      "['Lenovo PHAB2 Plus', 'Rs. 18,999']\n",
      "['K5', 'Rs. 3,699']\n",
      "['Lenovo K8 Note', 'Rs. 7,199']\n",
      "['VIBE K6 Power', 'Rs. 899']\n",
      "['K9', 'Rs. 3,599']\n",
      "['K3 Note', 'Rs. 9,999']\n",
      "['Lenovo K8 Plus', 'Rs. 7,899']\n"
     ]
    },
    {
     "name": "stderr",
     "output_type": "stream",
     "text": [
      "\r",
      " 33%|███▎      | 14/42 [11:59<23:29, 50.35s/it]"
     ]
    },
    {
     "name": "stdout",
     "output_type": "stream",
     "text": [
      "['K920/VIBE Z2', 'Rs. 899']\n"
     ]
    },
    {
     "name": "stderr",
     "output_type": "stream",
     "text": [
      "\r",
      " 36%|███▌      | 15/42 [12:01<16:06, 35.81s/it]"
     ]
    },
    {
     "name": "stdout",
     "output_type": "stream",
     "text": [
      "['realme 2 Pro', 'Rs. 11,490']\n",
      "['Xperia XZs', 'Rs. 32,999']\n",
      "['Xperia R1', 'Rs. 12,086']\n",
      "['Xperia X', 'Rs. 15,799']\n",
      "['Xperia Z2', 'Rs. 15,499']\n",
      "['Xperia Z5 Premium', 'Rs. 4,299']\n",
      "['Xperia C5 Ultra Dual', 'Rs. 1,449']\n",
      "['Xperia Z2', 'Rs. 15,499']\n",
      "['Xperia XA1 Plus', 'Rs. 74,100']\n",
      "['Xperia XA1', 'Rs. 25,990']\n",
      "['Xperia Z', 'Rs. 8,999']\n",
      "['Xperia XA1 Ultra', 'Rs. 1,449']\n",
      "['Xperia XA1', 'Rs. 25,990']\n",
      "['Xperia X', 'Rs. 15,799']\n",
      "['Xperia XZ Premium', 'Rs. 4,299']\n",
      "['Xperia R1 Plus', 'Rs. 74,100']\n"
     ]
    },
    {
     "name": "stderr",
     "output_type": "stream",
     "text": [
      "\r",
      " 38%|███▊      | 16/42 [12:36<15:23, 35.54s/it]"
     ]
    },
    {
     "name": "stdout",
     "output_type": "stream",
     "text": [
      "['Xperia XA Ultra', 'Rs. 1,449']\n",
      "['ZenFone Max (ZC550KL)', 'Rs. 5,999']\n",
      "['ZenFone Max M1 (ZB556KL) / ZenFone Max M1/M2/M3 (ZB555KL)', 'Rs. 5,999']\n",
      "['ZenFone Max Pro M1 (ZB602KL) (WW) / Max Pro M1 (ZB601KL) (IN)', 'Rs. 8,499']\n",
      "['ZenFone 2 (ZE551ML)', 'Rs. 16,999']\n",
      "['ZenFone 5Z (ZS620KL) (WW) / 5Z (ZS621KL) (IN)', 'Rs. 21,999']\n",
      "['ZenFone 2 Laser (ZE550KL)', 'Rs. 13,699']\n",
      "['ZenFone Live Plus (ZB553KL)', 'Rs. 6,499']\n",
      "['ZenFone Max Pro M2 (ZB631KL) (WW) / Max Pro M2 (ZB630KL) (IN)', 'Rs. 11,999']\n",
      "['ZenFone Max M2 (ZB633KL) (WW) / Max M2 (ZB632KL) (IN)', 'Rs. 7,499']\n",
      "['ZenFone Max Plus M1 (ZB570TL)', 'Rs. 5,999']\n",
      "['ZenFone Lite L1 (ZA551KL) / ZenFone Live L1/L2 (ZA550KL)', 'Rs. 6,499']\n",
      "['ROG Phone', 'Rs. 69,999']\n"
     ]
    },
    {
     "name": "stderr",
     "output_type": "stream",
     "text": [
      "\r",
      " 40%|████      | 17/42 [13:05<14:05, 33.81s/it]"
     ]
    },
    {
     "name": "stdout",
     "output_type": "stream",
     "text": [
      "['ZenFone 3 Zoom (ZE553KL)', 'Rs. 6,499']\n",
      "['Redmi 4A', 'Rs. 7,899']\n",
      "['Redmi Note 5A', 'Rs. 5,999']\n",
      "['Redmi  Note  7 Pro', 'Rs. 10,999']\n",
      "['MI 8 Lite', 'Rs. 11,828']\n",
      "['Redmi 5 Plus', 'Rs. 6,899']\n",
      "['Redmi 6 Pro', 'Rs. 9,789']\n",
      "['Redmi 6A', 'Rs. 5,689']\n",
      "['Redmi Note 5 Pro', 'Rs. 14,999']\n",
      "['HM 2LTE-IN', 'Rs. 7,260']\n",
      "['Redmi Note 4', 'Rs. 10,999']\n",
      "['POCO F1', 'Rs. 14,999']\n",
      "['Mi A1', 'Rs. 14,999']\n",
      "['Redmi 5A', 'Rs. 5,999']\n",
      "['MI MAX', 'Rs. 12,999']\n",
      "['Mi A2', 'Rs. 10,599']\n",
      "['Mi 4i', 'Rs. 11,828']\n",
      "['Redmi Note 3', 'Rs. 9,789']\n",
      "['MIX 2', 'Rs. 29,999']\n",
      "['Redmi 5', 'Rs. 6,899']\n",
      "['Redmi 5 Plus', 'Rs. 6,899']\n",
      "['Redmi 4', 'Rs. 8,999']\n",
      "['Redmi  Note  6  Pro', 'Rs. 9,789']\n",
      "['Mi 5', 'Rs. 11,828']\n",
      "['Redmi Note 4', 'Rs. 10,999']\n",
      "['MI MAX 2', 'Rs. 12,999']\n",
      "['Redmi 3S', 'Rs. 7,999']\n",
      "['Redmi 4X', 'Rs. 7,999']\n",
      "['MI 3W', 'Rs. 11,828']\n",
      "['Redmi  S2', 'Rs. 7,999']\n",
      "['HM NOTE 1LTETD', 'Rs. 12,050']\n"
     ]
    },
    {
     "name": "stderr",
     "output_type": "stream",
     "text": [
      "\r",
      " 43%|████▎     | 18/42 [14:14<17:39, 44.13s/it]"
     ]
    },
    {
     "name": "stdout",
     "output_type": "stream",
     "text": [
      "['Redmi Note 5A', 'Rs. 5,999']\n",
      "['Redmi 6', 'Rs. 7,438']\n"
     ]
    },
    {
     "name": "stderr",
     "output_type": "stream",
     "text": [
      "\r",
      " 45%|████▌     | 19/42 [14:18<12:21, 32.25s/it]"
     ]
    },
    {
     "name": "stdout",
     "output_type": "stream",
     "text": [
      "['Redmi  Note  7', 'Rs. 10,994']\n"
     ]
    },
    {
     "name": "stderr",
     "output_type": "stream",
     "text": [
      "\r",
      " 48%|████▊     | 20/42 [14:20<08:26, 23.02s/it]"
     ]
    },
    {
     "name": "stdout",
     "output_type": "stream",
     "text": [
      "['Srtphone', 0]\n",
      "['Canvas Infinity', 'Rs. 5,299']\n",
      "['YUNIQUE', 'Rs. 4,799']\n",
      "['Spark 4g', 'Rs. 56,990']\n"
     ]
    },
    {
     "name": "stderr",
     "output_type": "stream",
     "text": [
      "\r",
      " 50%|█████     | 21/42 [14:28<06:31, 18.66s/it]"
     ]
    },
    {
     "name": "stdout",
     "output_type": "stream",
     "text": [
      "['Canvas 5', 'Rs. 4,399']\n",
      "['P55 Novo', 'Rs. 9,889']\n",
      "['Eluga Arc', 'Rs. 7,300']\n",
      "['Eluga Ray X', 'Rs. 7,999']\n"
     ]
    },
    {
     "name": "stderr",
     "output_type": "stream",
     "text": [
      "\r",
      " 52%|█████▏    | 22/42 [14:38<05:19, 15.96s/it]"
     ]
    },
    {
     "name": "stdout",
     "output_type": "stream",
     "text": [
      "['ELUGA Ray 700', 'Rs. 6,990']\n",
      "['A1', 'Rs. 799']\n",
      "['P7 Max', 'Rs. 13,000']\n",
      "['A1 Lite', 'Rs. 5,999']\n",
      "['S plus', 'Rs. 74,100']\n",
      "['X1S', 'N/A']\n",
      "['M5 Lite', 'Rs. 20,999']\n",
      "['S6s', 'Rs. 15,999']\n",
      "['M7 Power', 'Rs. 20,000']\n",
      "['A1 Plus', 'Rs. 799']\n"
     ]
    },
    {
     "name": "stderr",
     "output_type": "stream",
     "text": [
      "\r",
      " 55%|█████▍    | 23/42 [14:59<05:32, 17.48s/it]"
     ]
    },
    {
     "name": "stdout",
     "output_type": "stream",
     "text": [
      "['F103 Pro', 'Rs. 5,499']\n",
      "['LS-5201', 'Rs. 19,499']\n",
      "['LS-5002', 'Rs. 19,499']\n"
     ]
    },
    {
     "name": "stderr",
     "output_type": "stream",
     "text": [
      "\r",
      " 57%|█████▋    | 24/42 [15:05<04:15, 14.20s/it]"
     ]
    },
    {
     "name": "stdout",
     "output_type": "stream",
     "text": [
      "['LS-5504', 'Rs. 19,499']\n",
      "['Emulator', 0]\n",
      "['Pixel', 'Rs. 66,785']\n",
      "['Pixel 2', 'Rs. 66,785']\n",
      "['Pixel XL', 'Rs. 66,785']\n",
      "['Pixel 3', 'Rs. 57,999']\n",
      "['Pixel 2 XL', 'Rs. 66,785']\n"
     ]
    },
    {
     "name": "stderr",
     "output_type": "stream",
     "text": [
      "\r",
      " 60%|█████▉    | 25/42 [15:20<04:03, 14.31s/it]"
     ]
    },
    {
     "name": "stdout",
     "output_type": "stream",
     "text": [
      "['Pixel 3 XL', 'Rs. 57,999']\n",
      "['Camon I', 'Rs. 8,999']\n",
      "['i3', 'Rs. 9,993']\n",
      "['CAMON iClick', 'Rs. 12,985']\n"
     ]
    },
    {
     "name": "stderr",
     "output_type": "stream",
     "text": [
      "\r",
      " 62%|██████▏   | 26/42 [15:29<03:21, 12.62s/it]"
     ]
    },
    {
     "name": "stdout",
     "output_type": "stream",
     "text": [
      "['CAMON iSky', 'Rs. 7,999']\n",
      "['D', 'Rs. 11,490']\n"
     ]
    },
    {
     "name": "stderr",
     "output_type": "stream",
     "text": [
      "\r",
      " 64%|██████▍   | 27/42 [15:33<02:34, 10.30s/it]"
     ]
    },
    {
     "name": "stdout",
     "output_type": "stream",
     "text": [
      "['G', 'Rs. 42,021']\n",
      "['Lenovo Z2 Plus', 'Rs. 15,499']\n"
     ]
    },
    {
     "name": "stderr",
     "output_type": "stream",
     "text": [
      "\r",
      " 67%|██████▋   | 28/42 [15:38<01:59,  8.51s/it]"
     ]
    },
    {
     "name": "stdout",
     "output_type": "stream",
     "text": [
      "['Z1', 'Rs. 6,999']\n",
      "['Zero 5', 'Rs. 17,999']\n",
      "['HOT S3', 'Rs. 9,999']\n",
      "['Infinix NOTE 5', 'Rs. 7,599']\n"
     ]
    },
    {
     "name": "stderr",
     "output_type": "stream",
     "text": [
      "\r",
      " 69%|██████▉   | 29/42 [15:47<01:52,  8.65s/it]"
     ]
    },
    {
     "name": "stdout",
     "output_type": "stream",
     "text": [
      "['HOT 6 Pro', 'Rs. 10,999']\n",
      "['InFocus M7 Lite', 'Rs. 4,999']\n"
     ]
    },
    {
     "name": "stderr",
     "output_type": "stream",
     "text": [
      "\r",
      " 71%|███████▏  | 30/42 [15:51<01:26,  7.23s/it]"
     ]
    },
    {
     "name": "stdout",
     "output_type": "stream",
     "text": [
      "['IF9001', 'Rs. 7,500']\n"
     ]
    },
    {
     "name": "stderr",
     "output_type": "stream",
     "text": [
      "\r",
      " 74%|███████▍  | 31/42 [15:52<01:01,  5.58s/it]"
     ]
    },
    {
     "name": "stdout",
     "output_type": "stream",
     "text": [
      "['A1', 'Rs. 799']\n"
     ]
    },
    {
     "name": "stderr",
     "output_type": "stream",
     "text": [
      "\r",
      " 76%|███████▌  | 32/42 [15:54<00:44,  4.43s/it]"
     ]
    },
    {
     "name": "stdout",
     "output_type": "stream",
     "text": [
      "['Z1', 'Rs. 6,999']\n"
     ]
    },
    {
     "name": "stderr",
     "output_type": "stream",
     "text": [
      "\r",
      " 79%|███████▊  | 33/42 [15:56<00:32,  3.57s/it]"
     ]
    },
    {
     "name": "stdout",
     "output_type": "stream",
     "text": [
      "['S21', 'Rs. 5,449']\n"
     ]
    },
    {
     "name": "stderr",
     "output_type": "stream",
     "text": [
      "\r",
      " 81%|████████  | 34/42 [15:57<00:23,  2.93s/it]"
     ]
    },
    {
     "name": "stdout",
     "output_type": "stream",
     "text": [
      "['IV0318ND', 0]\n"
     ]
    },
    {
     "name": "stderr",
     "output_type": "stream",
     "text": [
      "\r",
      " 83%|████████▎ | 35/42 [15:59<00:19,  2.72s/it]"
     ]
    },
    {
     "name": "stdout",
     "output_type": "stream",
     "text": [
      "['X1 Dual', 'Rs. 6,950']\n"
     ]
    },
    {
     "name": "stderr",
     "output_type": "stream",
     "text": [
      "\r",
      " 86%|████████▌ | 36/42 [16:02<00:15,  2.62s/it]"
     ]
    },
    {
     "name": "stdout",
     "output_type": "stream",
     "text": [
      "['meizu C9', 'Rs. 3,559']\n"
     ]
    },
    {
     "name": "stderr",
     "output_type": "stream",
     "text": [
      "\r",
      " 88%|████████▊ | 37/42 [16:03<00:11,  2.32s/it]"
     ]
    },
    {
     "name": "stdout",
     "output_type": "stream",
     "text": [
      "['YUNICORN', 'Rs. 5,799']\n"
     ]
    },
    {
     "name": "stderr",
     "output_type": "stream",
     "text": [
      "\r",
      " 90%|█████████ | 38/42 [16:05<00:08,  2.09s/it]"
     ]
    },
    {
     "name": "stdout",
     "output_type": "stream",
     "text": [
      "['Hi9Pro', 0]\n"
     ]
    },
    {
     "name": "stderr",
     "output_type": "stream",
     "text": [
      "\r",
      " 93%|█████████▎| 39/42 [16:07<00:05,  1.98s/it]"
     ]
    },
    {
     "name": "stdout",
     "output_type": "stream",
     "text": [
      "['Billion Capture+', 'Rs. 13,999']\n"
     ]
    },
    {
     "name": "stderr",
     "output_type": "stream",
     "text": [
      "\r",
      " 95%|█████████▌| 40/42 [16:09<00:04,  2.07s/it]"
     ]
    },
    {
     "name": "stdout",
     "output_type": "stream",
     "text": [
      "['iBall Slide Snap 4G2', 'Rs. 7,999']\n"
     ]
    },
    {
     "name": "stderr",
     "output_type": "stream",
     "text": [
      "\r",
      " 98%|█████████▊| 41/42 [16:11<00:02,  2.08s/it]"
     ]
    },
    {
     "name": "stdout",
     "output_type": "stream",
     "text": [
      "['Le 2', 'Rs. 8,999']\n"
     ]
    },
    {
     "name": "stderr",
     "output_type": "stream",
     "text": [
      "100%|██████████| 42/42 [16:13<00:00, 23.18s/it]"
     ]
    },
    {
     "name": "stdout",
     "output_type": "stream",
     "text": [
      "['R1 HD', 'Rs. 6,499']\n"
     ]
    },
    {
     "name": "stderr",
     "output_type": "stream",
     "text": [
      "\n"
     ]
    }
   ],
   "source": [
    "def get_pricebaba(inp):\n",
    "    try:\n",
    "        inp.replace('','+')\n",
    "        url = 'https://pricebaba.com/search?q='+str(inp)\n",
    "        r = requests.get(url)\n",
    "        soup = BeautifulSoup(r.content, 'lxml')\n",
    "        pr = soup.findAll('span',{'class':'d-block txt-al-c'})[0].getText()\n",
    "        return pr\n",
    "    except:\n",
    "        return 0\n",
    "for i in tqdm(brand_di):\n",
    "    \n",
    "    for it in range(len(brand_di[i])):\n",
    "        \n",
    "        pri = get_pricebaba(brand_di[i][it][1])\n",
    "        if(pri !=0 ):\n",
    "            brand_di[i][it].append(pri)\n",
    "        else:\n",
    "            brand_di[i][it].append(0)\n",
    "        print(brand_di[i][it][1:3])\n",
    "        "
   ]
  },
  {
   "cell_type": "code",
   "execution_count": 10,
   "metadata": {},
   "outputs": [],
   "source": [
    "for i in brand_di:\n",
    "    for it in range(len(brand_di[i])):\n",
    "            brand_di[i][it].append(i)\n",
    "        "
   ]
  },
  {
   "cell_type": "code",
   "execution_count": 11,
   "metadata": {},
   "outputs": [],
   "source": [
    "sys_na = []\n",
    "model = []\n",
    "price =[]\n",
    "brand_name = []\n",
    "for i in brand_di:\n",
    "    for it in range(len(brand_di[i])):\n",
    "            sys_na.append(brand_di[i][it][0])\n",
    "            model.append(brand_di[i][it][1])\n",
    "            price.append(brand_di[i][it][2])\n",
    "            brand_name.append(brand_di[i][it][3])\n",
    "        "
   ]
  },
  {
   "cell_type": "code",
   "execution_count": 12,
   "metadata": {},
   "outputs": [],
   "source": [
    "data = pd.DataFrame({'System_Model_Name':sys_na,'Device':model,'Price':price,'Brand_Name':brand_name})"
   ]
  },
  {
   "cell_type": "code",
   "execution_count": 13,
   "metadata": {},
   "outputs": [
    {
     "data": {
      "text/html": [
       "<div>\n",
       "<style scoped>\n",
       "    .dataframe tbody tr th:only-of-type {\n",
       "        vertical-align: middle;\n",
       "    }\n",
       "\n",
       "    .dataframe tbody tr th {\n",
       "        vertical-align: top;\n",
       "    }\n",
       "\n",
       "    .dataframe thead th {\n",
       "        text-align: right;\n",
       "    }\n",
       "</style>\n",
       "<table border=\"1\" class=\"dataframe\">\n",
       "  <thead>\n",
       "    <tr style=\"text-align: right;\">\n",
       "      <th></th>\n",
       "      <th>System_Model_Name</th>\n",
       "      <th>Device</th>\n",
       "      <th>Price</th>\n",
       "      <th>Brand_Name</th>\n",
       "    </tr>\n",
       "  </thead>\n",
       "  <tbody>\n",
       "    <tr>\n",
       "      <td>0</td>\n",
       "      <td>SM-A800F</td>\n",
       "      <td>Galaxy A8</td>\n",
       "      <td>Rs. 19,490</td>\n",
       "      <td>Samsung</td>\n",
       "    </tr>\n",
       "    <tr>\n",
       "      <td>1</td>\n",
       "      <td>SM-J400F</td>\n",
       "      <td>Galaxy J4</td>\n",
       "      <td>Rs. 8,490</td>\n",
       "      <td>Samsung</td>\n",
       "    </tr>\n",
       "    <tr>\n",
       "      <td>2</td>\n",
       "      <td>SM-G950F</td>\n",
       "      <td>Galaxy S8</td>\n",
       "      <td>Rs. 49,990</td>\n",
       "      <td>Samsung</td>\n",
       "    </tr>\n",
       "    <tr>\n",
       "      <td>3</td>\n",
       "      <td>SM-G7102</td>\n",
       "      <td>Galaxy Grand2</td>\n",
       "      <td>Rs. 28,490</td>\n",
       "      <td>Samsung</td>\n",
       "    </tr>\n",
       "    <tr>\n",
       "      <td>4</td>\n",
       "      <td>SM-G615FU</td>\n",
       "      <td>Galaxy On Max</td>\n",
       "      <td>Rs. 9,499</td>\n",
       "      <td>Samsung</td>\n",
       "    </tr>\n",
       "  </tbody>\n",
       "</table>\n",
       "</div>"
      ],
      "text/plain": [
       "  System_Model_Name         Device       Price Brand_Name\n",
       "0          SM-A800F      Galaxy A8  Rs. 19,490    Samsung\n",
       "1          SM-J400F      Galaxy J4   Rs. 8,490    Samsung\n",
       "2          SM-G950F      Galaxy S8  Rs. 49,990    Samsung\n",
       "3          SM-G7102  Galaxy Grand2  Rs. 28,490    Samsung\n",
       "4         SM-G615FU  Galaxy On Max   Rs. 9,499    Samsung"
      ]
     },
     "execution_count": 13,
     "metadata": {},
     "output_type": "execute_result"
    }
   ],
   "source": [
    "data.head()"
   ]
  },
  {
   "cell_type": "code",
   "execution_count": 14,
   "metadata": {},
   "outputs": [],
   "source": [
    "brand_stats = pd.read_csv('data/Brand_Stats.csv')"
   ]
  },
  {
   "cell_type": "code",
   "execution_count": 15,
   "metadata": {},
   "outputs": [],
   "source": [
    "brand_stats.drop('Unnamed: 0',axis = 1,inplace = True)"
   ]
  },
  {
   "cell_type": "code",
   "execution_count": 16,
   "metadata": {},
   "outputs": [],
   "source": [
    "brand_stats.Brand = brand_stats.Brand.apply(lambda x : x.lower())\n",
    "brand_stats.Brand = brand_stats.Brand.apply(lambda x : x.replace(' ',''))\n",
    "\n",
    "data.Brand_Name = data.Brand_Name.apply(lambda x : x.lower())\n",
    "data.Brand_Name = data.Brand_Name.apply(lambda x : x.replace(' ',''))"
   ]
  },
  {
   "cell_type": "code",
   "execution_count": 17,
   "metadata": {},
   "outputs": [],
   "source": [
    "data_brand = pd.merge(data,brand_stats,how = 'left', right_on = 'Brand',left_on='Brand_Name')"
   ]
  },
  {
   "cell_type": "code",
   "execution_count": 21,
   "metadata": {},
   "outputs": [
    {
     "name": "stdout",
     "output_type": "stream",
     "text": [
      "razer\n",
      "0\n",
      "0\n",
      "lge\n",
      "0\n",
      "0\n",
      "sony\n",
      "Rs. 83,750\n",
      "Rs. 2,899\n",
      "redmi\n",
      "Rs. 32,290\n",
      "Rs. 4,465\n",
      "10.or\n",
      "Rs. 89,999\n",
      "Rs. 799\n",
      "zuk\n",
      "Rs. 21,999\n",
      "Rs. 8,000\n",
      "asanzo\n",
      "0\n",
      "0\n",
      "chuwi\n",
      "0\n",
      "0\n",
      "letv\n",
      "0\n",
      "0\n",
      "blu\n",
      "Rs. 9,100\n",
      "Rs. 1,360\n"
     ]
    }
   ],
   "source": [
    "def get_brand(inp):\n",
    "    try:\n",
    "        print(inp)\n",
    "        url_des = 'https://pricebaba.com/search?limit=40&status=10&status=20&status=30&status=40&category=MOBILE&active=true&start=0&q='+str(inp)+'&sort=online_price-desc'\n",
    "        \n",
    "        url_asc = 'https://pricebaba.com/search?limit=40&status=10&status=20&status=30&status=40&category=MOBILE&active=true&start=0&q='+str(inp)+'&sort=online_price-asc'\n",
    "        rd = requests.get(url_des)\n",
    "        ra = requests.get(url_asc)\n",
    "        soupd = BeautifulSoup(rd.content, 'lxml')\n",
    "        soupa = BeautifulSoup(ra.content, 'lxml')\n",
    "        up = soupd.findAll('span',{'class':'d-block txt-al-c'})[0].getText()\n",
    "        low = soupa.findAll('span',{'class':'d-block txt-al-c'})[0].getText()\n",
    "        return up,low\n",
    "    except:\n",
    "        return 0,0\n",
    "left_brands = {}\n",
    "for i in data_brand[data_brand['Brand'].isna()]['Brand_Name'].unique().tolist():\n",
    "    left_brands[i] = []\n",
    "    \n",
    "    \n",
    "for i in data_brand[data_brand['Brand'].isna()]['Brand_Name'].unique().tolist():\n",
    "    input_ = i.lower().strip()\n",
    "    up,low =get_brand(input_)\n",
    "    print(up)\n",
    "    print(low)\n",
    "    left_brands[i].append(up)\n",
    "    left_brands[i].append(low)\n",
    "#     data_brand.loc[[data_brand['Brand_Name']==i]]['Brand_Price_Max'] = up\n",
    "    \n",
    "#     data_brand[data_brand['Brand_Name']==i]['Brand_Price_Min'].iloc[:]=low"
   ]
  },
  {
   "cell_type": "code",
   "execution_count": 28,
   "metadata": {},
   "outputs": [],
   "source": [
    "for i in range(data_brand.shape[0]):\n",
    "    if(data_brand['Brand_Name'].iloc[i] in left_brands.keys()):\n",
    "        data_brand['Brand_Price_Max'].iloc[i] = left_brands[data_brand['Brand_Name'].iloc[i]][0]\n",
    "        data_brand['Brand_Price_Min'].iloc[i] = left_brands[data_brand['Brand_Name'].iloc[i]][1]"
   ]
  },
  {
   "cell_type": "code",
   "execution_count": 20,
   "metadata": {},
   "outputs": [
    {
     "data": {
      "text/plain": [
       "['LDN-L21', 'HUAWEI Y7 2018', 'Rs. 39,999']"
      ]
     },
     "execution_count": 20,
     "metadata": {},
     "output_type": "execute_result"
    }
   ],
   "source": [
    "#sys_model_name model brand exact_price max min     price()   cat"
   ]
  },
  {
   "cell_type": "code",
   "execution_count": 29,
   "metadata": {},
   "outputs": [
    {
     "data": {
      "text/plain": [
       "'Rs. 83,750'"
      ]
     },
     "execution_count": 29,
     "metadata": {},
     "output_type": "execute_result"
    }
   ],
   "source": [
    "left_brands['sony'][0]"
   ]
  },
  {
   "cell_type": "code",
   "execution_count": 32,
   "metadata": {},
   "outputs": [
    {
     "data": {
      "text/html": [
       "<div>\n",
       "<style scoped>\n",
       "    .dataframe tbody tr th:only-of-type {\n",
       "        vertical-align: middle;\n",
       "    }\n",
       "\n",
       "    .dataframe tbody tr th {\n",
       "        vertical-align: top;\n",
       "    }\n",
       "\n",
       "    .dataframe thead th {\n",
       "        text-align: right;\n",
       "    }\n",
       "</style>\n",
       "<table border=\"1\" class=\"dataframe\">\n",
       "  <thead>\n",
       "    <tr style=\"text-align: right;\">\n",
       "      <th></th>\n",
       "      <th>System_Model_Name</th>\n",
       "      <th>Device</th>\n",
       "      <th>Price</th>\n",
       "      <th>Brand_Name</th>\n",
       "      <th>Brand</th>\n",
       "      <th>Brand_Price_Mean</th>\n",
       "      <th>Brand_Price_Min</th>\n",
       "      <th>Brand_Price_Max</th>\n",
       "    </tr>\n",
       "  </thead>\n",
       "  <tbody>\n",
       "    <tr>\n",
       "      <td>454</td>\n",
       "      <td>Hi9Pro</td>\n",
       "      <td>Hi9Pro</td>\n",
       "      <td>0</td>\n",
       "      <td>chuwi</td>\n",
       "      <td>NaN</td>\n",
       "      <td>NaN</td>\n",
       "      <td>0</td>\n",
       "      <td>0</td>\n",
       "    </tr>\n",
       "  </tbody>\n",
       "</table>\n",
       "</div>"
      ],
      "text/plain": [
       "    System_Model_Name  Device Price Brand_Name Brand  Brand_Price_Mean  \\\n",
       "454            Hi9Pro  Hi9Pro     0      chuwi   NaN               NaN   \n",
       "\n",
       "    Brand_Price_Min Brand_Price_Max  \n",
       "454               0               0  "
      ]
     },
     "execution_count": 32,
     "metadata": {},
     "output_type": "execute_result"
    }
   ],
   "source": [
    "data_brand[data_brand.Brand_Name == 'chuwi']"
   ]
  },
  {
   "cell_type": "code",
   "execution_count": 97,
   "metadata": {},
   "outputs": [],
   "source": [
    "data_brand.insert(8, 'Missing_Flag',0)\n",
    "for i in range(data_brand.shape[0]):\n",
    "    if(data_brand['Price'].iloc[i] == 0):\n",
    "        data_brand['Price'].iloc[i] =data_brand['Brand_Price_Mean'].iloc[i] \n",
    "        data_brand['Missing_Flag'].iloc[i] =1\n",
    "    else:\n",
    "        data_brand['Missing_Flag'].iloc[i] =0"
   ]
  },
  {
   "cell_type": "code",
   "execution_count": null,
   "metadata": {},
   "outputs": [],
   "source": [
    "data_brand.Price = data_brand.Price.str.extract('([0-9]+[,]?[0-9]*[,]?[0-9]*)')\n",
    "data_brand.Price = data_brand.Price.str.replace(',','')\n",
    "#data_brand.Price = data_brand.Price.astype(int)"
   ]
  },
  {
   "cell_type": "code",
   "execution_count": 112,
   "metadata": {},
   "outputs": [],
   "source": [
    "#data_brand.insert(8, 'price_cat',0)\n",
    "def encode_price(df,col):\n",
    "    for i in range(df[col].shape[0]):\n",
    "        try:\n",
    "            if(int(df[col].iloc[i]) in range(0,1000)):\n",
    "                df['price_cat'].iloc[i] = 0\n",
    "            elif(int(df[col].iloc[i]) in range(1000,10000)):\n",
    "                df['price_cat'].iloc[i] = 1\n",
    "            elif(int(df[col].iloc[i]) in range(10000,20000)):\n",
    "                df['price_cat'].iloc[i] = 2\n",
    "            elif(int(df[col].iloc[i]) in range(20000,30000)):\n",
    "                df['price_cat'].iloc[i] = 3\n",
    "            elif(int(df[col].iloc[i]) in range(30000,40000)):\n",
    "                df['price_cat'].iloc[i] = 4\n",
    "            elif(int(df[col].iloc[i]) in range(40000,50000)):\n",
    "                df['price_cat'].iloc[i] = 5\n",
    "            elif(int(df[col].iloc[i]) in range(50000,60000)):\n",
    "                df['price_cat'].iloc[i] = 6\n",
    "            elif(int(df[col].iloc[i]) in range(60000,70000)):\n",
    "                df['price_cat'].iloc[i] = 7\n",
    "            elif(int(df[col].iloc[i]) in range(70000,80000)):\n",
    "                df['price_cat'].iloc[i] = 8\n",
    "            elif(int(df[col].iloc[i]) in range(80000,80000)):\n",
    "                df['price_cat'].iloc[i] = 9\n",
    "            elif(int(df[col].iloc[i]) in range(90000,100000)):\n",
    "                df['price_cat'].iloc[i] = 10\n",
    "            else:\n",
    "                df['price_cat'].iloc[i] = 11\n",
    "        except:\n",
    "            pass\n",
    "encode_price(data_brand,'Price')\n",
    "        "
   ]
  },
  {
   "cell_type": "code",
   "execution_count": 115,
   "metadata": {},
   "outputs": [],
   "source": [
    "data_brand.to_csv('Data_Final.csv')"
   ]
  }
 ],
 "metadata": {
  "kernelspec": {
   "display_name": "Python 3",
   "language": "python",
   "name": "python3"
  },
  "language_info": {
   "codemirror_mode": {
    "name": "ipython",
    "version": 3
   },
   "file_extension": ".py",
   "mimetype": "text/x-python",
   "name": "python",
   "nbconvert_exporter": "python",
   "pygments_lexer": "ipython3",
   "version": "3.7.4"
  }
 },
 "nbformat": 4,
 "nbformat_minor": 2
}
